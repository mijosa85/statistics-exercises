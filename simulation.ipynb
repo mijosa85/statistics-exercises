{
 "cells": [
  {
   "cell_type": "code",
   "execution_count": 1,
   "id": "8bbfb158",
   "metadata": {},
   "outputs": [],
   "source": [
    "import numpy as np\n",
    "import pandas as pd"
   ]
  },
  {
   "cell_type": "code",
   "execution_count": 2,
   "id": "5fcf15f1",
   "metadata": {},
   "outputs": [],
   "source": [
    "np.random.seed(85)"
   ]
  },
  {
   "cell_type": "markdown",
   "id": "cbd98391",
   "metadata": {},
   "source": [
    "How likely is it that you roll doubles when rolling two dice?"
   ]
  },
  {
   "cell_type": "code",
   "execution_count": 3,
   "id": "8bf9f54f",
   "metadata": {},
   "outputs": [
    {
     "data": {
      "text/plain": [
       "0.16817"
      ]
     },
     "execution_count": 3,
     "metadata": {},
     "output_type": "execute_result"
    }
   ],
   "source": [
    "die1 = np.random.choice([1,2,3,4,5,6], 100000)\n",
    "die2 = np.random.choice([1,2,3,4,5,6], 100000)\n",
    "comp = die1 == die2\n",
    "comp.astype(int).mean()"
   ]
  },
  {
   "cell_type": "markdown",
   "id": "96b5be69",
   "metadata": {},
   "source": [
    "If you flip 8 coins, what is the probability of getting exactly 3 heads? "
   ]
  },
  {
   "cell_type": "code",
   "execution_count": 4,
   "id": "3766b9f9",
   "metadata": {
    "scrolled": true
   },
   "outputs": [
    {
     "data": {
      "text/plain": [
       "0.21685"
      ]
     },
     "execution_count": 4,
     "metadata": {},
     "output_type": "execute_result"
    }
   ],
   "source": [
    "flips = np.random.choice([\"Heads\", \"Tails\"], 100000 * 8).reshape(100000, 8)\n",
    "pd.DataFrame(flips).apply(lambda row: row.str.count(\"Heads\").sum() == 3, axis=1).mean()"
   ]
  },
  {
   "cell_type": "markdown",
   "id": "a5f6f3e6",
   "metadata": {},
   "source": [
    "What is the probability of getting more than 3 heads?"
   ]
  },
  {
   "cell_type": "code",
   "execution_count": 5,
   "id": "1d20d5b4",
   "metadata": {
    "scrolled": true
   },
   "outputs": [
    {
     "data": {
      "text/plain": [
       "0.85371"
      ]
     },
     "execution_count": 5,
     "metadata": {},
     "output_type": "execute_result"
    }
   ],
   "source": [
    "pd.DataFrame(flips).apply(lambda row: row.str.count(\"Heads\").sum() >= 3 , axis=1).mean()"
   ]
  },
  {
   "cell_type": "markdown",
   "id": "5596e78e",
   "metadata": {},
   "source": [
    "There are approximitely 3 web development cohorts for every 1 data science cohort at Codeup. Assuming that Codeup randomly selects an alumni to put on a billboard, what are the odds that the two billboards I drive past both have data science students on them?"
   ]
  },
  {
   "cell_type": "code",
   "execution_count": 6,
   "id": "c86dd899",
   "metadata": {},
   "outputs": [
    {
     "data": {
      "text/plain": [
       "0.06303"
      ]
     },
     "execution_count": 6,
     "metadata": {},
     "output_type": "execute_result"
    }
   ],
   "source": [
    "bill1 = np.random.choice([\"Web\", \"DS\"], 100000, p = [0.75, 0.25])\n",
    "bill2 = np.random.choice([\"Web\", \"DS\"], 100000, p = [0.75, 0.25])\n",
    "comp = (bill1 == \"DS\") & (bill2 == \"DS\")\n",
    "comp.astype(int).mean()"
   ]
  },
  {
   "cell_type": "markdown",
   "id": "150735a7",
   "metadata": {},
   "source": [
    "Codeup students buy, on average, 3 poptart packages with a standard deviation of 1.5 a day from the snack vending machine. If on monday the machine is restocked with 17 poptart packages, how likely is it that I will be able to buy some poptarts on Friday afternoon?"
   ]
  },
  {
   "cell_type": "code",
   "execution_count": 7,
   "id": "59ae095e",
   "metadata": {
    "scrolled": true
   },
   "outputs": [
    {
     "data": {
      "text/plain": [
       "0.88029"
      ]
     },
     "execution_count": 7,
     "metadata": {},
     "output_type": "execute_result"
    }
   ],
   "source": [
    "daily_pop_tarts = np.random.normal(3, 1.5, (100000, 5)).astype(int).reshape(100000, 5)\n",
    "pd.DataFrame(daily_pop_tarts).apply(lambda row: row.values.sum() < 17, axis = 1).mean()"
   ]
  },
  {
   "cell_type": "markdown",
   "id": "79452a04",
   "metadata": {},
   "source": [
    "Compare Heights\n",
    "\n",
    "Men have an average height of 178 cm and standard deviation of 8cm.\n",
    "Women have a mean of 170, sd = 6cm.\n",
    "Since you have means and standard deviations, you can use np.random.normal to generate observations.\n",
    "If a man and woman are chosen at random, P(woman taller than man)?"
   ]
  },
  {
   "cell_type": "code",
   "execution_count": 8,
   "id": "cb09c31a",
   "metadata": {},
   "outputs": [
    {
     "data": {
      "text/plain": [
       "0.21076"
      ]
     },
     "execution_count": 8,
     "metadata": {},
     "output_type": "execute_result"
    }
   ],
   "source": [
    "male_height = np.random.normal(178, 8, 100000)\n",
    "female_height = np.random.normal(170, 6, 100000)\n",
    "taller_female = pd.Series(female_height) > pd.Series(male_height)\n",
    "taller_female.mean()"
   ]
  },
  {
   "cell_type": "markdown",
   "id": "8590c090",
   "metadata": {},
   "source": [
    "When installing anaconda on a student's computer, there's a 1 in 250 chance that the download is corrupted and the installation fails. What are the odds that after having 50 students download anaconda, no one has an installation issue?"
   ]
  },
  {
   "cell_type": "code",
   "execution_count": 9,
   "id": "999cb4ea",
   "metadata": {},
   "outputs": [
    {
     "data": {
      "text/plain": [
       "0.8181"
      ]
     },
     "execution_count": 9,
     "metadata": {},
     "output_type": "execute_result"
    }
   ],
   "source": [
    "failure_chance = np.random.choice([True, False], 100000 * 50, p = [(1/250), (249/250)]).reshape(100000, 50)\n",
    "pd.DataFrame(failure_chance).apply(lambda row: row.values.sum() < 1, axis = 1).mean()"
   ]
  },
  {
   "cell_type": "markdown",
   "id": "9334dd95",
   "metadata": {},
   "source": [
    "100 students?"
   ]
  },
  {
   "cell_type": "code",
   "execution_count": 10,
   "id": "f27fe495",
   "metadata": {},
   "outputs": [
    {
     "data": {
      "text/plain": [
       "0.67011"
      ]
     },
     "execution_count": 10,
     "metadata": {},
     "output_type": "execute_result"
    }
   ],
   "source": [
    "failure_chance = np.random.choice([True, False], 100000 * 100, p = [(1/250), (249/250)]).reshape(100000, 100)\n",
    "pd.DataFrame(failure_chance).apply(lambda row: row.values.sum() < 1, axis = 1).mean()"
   ]
  },
  {
   "cell_type": "markdown",
   "id": "fcca2e05",
   "metadata": {},
   "source": [
    "What is the probability that we observe an installation issue within the first 150 students that download anaconda?"
   ]
  },
  {
   "cell_type": "code",
   "execution_count": 11,
   "id": "4ff32bfc",
   "metadata": {},
   "outputs": [
    {
     "data": {
      "text/plain": [
       "0.45053"
      ]
     },
     "execution_count": 11,
     "metadata": {},
     "output_type": "execute_result"
    }
   ],
   "source": [
    "failure_chance = np.random.choice([True, False], 100000 * 150, p = [(1/250), (249/250)]).reshape(100000, 150)\n",
    "pd.DataFrame(failure_chance).apply(lambda row: row.values.sum() > 0, axis = 1).mean()"
   ]
  },
  {
   "cell_type": "markdown",
   "id": "08ce2060",
   "metadata": {},
   "source": [
    "How likely is it that 450 students all download anaconda without an issue?"
   ]
  },
  {
   "cell_type": "code",
   "execution_count": 12,
   "id": "4e49c95e",
   "metadata": {},
   "outputs": [
    {
     "data": {
      "text/plain": [
       "0.16639"
      ]
     },
     "execution_count": 12,
     "metadata": {},
     "output_type": "execute_result"
    }
   ],
   "source": [
    "failure_chance = np.random.choice([True, False], 100000 * 450, p = [(1/250), (249/250)]).reshape(100000, 450)\n",
    "pd.DataFrame(failure_chance).apply(lambda row: row.values.sum() < 1 , axis = 1).mean()"
   ]
  },
  {
   "cell_type": "markdown",
   "id": "b317fd4c",
   "metadata": {},
   "source": [
    "There's a 70% chance on any given day that there will be at least one food truck at Travis Park. However, you haven't seen a food truck there in 3 days. How unlikely is this?"
   ]
  },
  {
   "cell_type": "code",
   "execution_count": 13,
   "id": "08f2abd7",
   "metadata": {},
   "outputs": [
    {
     "data": {
      "text/plain": [
       "0.02797"
      ]
     },
     "execution_count": 13,
     "metadata": {},
     "output_type": "execute_result"
    }
   ],
   "source": [
    "truck_chance = np.random.choice([True, False], 100000 * 3, p = [.7, .3]).reshape(100000, 3)\n",
    "pd.DataFrame(truck_chance).apply(lambda row: row.values.sum() == 0, axis = 1).mean()"
   ]
  },
  {
   "cell_type": "markdown",
   "id": "19ec38da",
   "metadata": {},
   "source": [
    "How likely is it that a food truck will show up sometime this week?"
   ]
  },
  {
   "cell_type": "code",
   "execution_count": 14,
   "id": "511d77be",
   "metadata": {},
   "outputs": [
    {
     "name": "stdout",
     "output_type": "stream",
     "text": [
      "Odds of not seeing a food truck in Travis Park for 1 day(s):  29.92 %\n",
      "Odds of not seeing a food truck in Travis Park for 2 day(s):  9.1 %\n",
      "Odds of not seeing a food truck in Travis Park for 3 day(s):  2.71 %\n",
      "Odds of not seeing a food truck in Travis Park for 4 day(s):  0.81 %\n",
      "Odds of not seeing a food truck in Travis Park for 5 day(s):  0.22 %\n",
      "Odds of not seeing a food truck in Travis Park for 6 day(s):  0.06 %\n",
      "Odds of not seeing a food truck in Travis Park for 7 day(s):  0.02 %\n"
     ]
    }
   ],
   "source": [
    "for i in range(1, 8):\n",
    "    truck_chance = np.random.choice([True, False], 100000 * i, p = [.7, .3]).reshape(100000, i)\n",
    "    print(f\"Odds of not seeing a food truck in Travis Park for {i} day(s): \",\n",
    "          round(pd.DataFrame(truck_chance).apply(lambda row: row.values.sum() == 0, axis = 1).mean() * 100, 2), \"%\")"
   ]
  },
  {
   "cell_type": "markdown",
   "id": "3852b46e",
   "metadata": {},
   "source": [
    "If 23 people are in the same room, what are the odds that two of them share a birthday? "
   ]
  },
  {
   "cell_type": "code",
   "execution_count": 15,
   "id": "ea1fbbc1",
   "metadata": {},
   "outputs": [
    {
     "data": {
      "text/plain": [
       "0.50594"
      ]
     },
     "execution_count": 15,
     "metadata": {},
     "output_type": "execute_result"
    }
   ],
   "source": [
    "ncols = 23\n",
    "b_days = pd.DataFrame(np.random.choice([i for i in range(366)], 100000 * ncols).reshape(100000, ncols))\n",
    "b_days['matching_birthdays'] = b_days.nunique(axis=1) < ncols\n",
    "b_days['matching_birthdays'].mean()"
   ]
  },
  {
   "cell_type": "markdown",
   "id": "5e0cd8d9",
   "metadata": {},
   "source": [
    "What if it's 20 people?"
   ]
  },
  {
   "cell_type": "code",
   "execution_count": 16,
   "id": "b36c47c7",
   "metadata": {},
   "outputs": [
    {
     "data": {
      "text/plain": [
       "0.41405"
      ]
     },
     "execution_count": 16,
     "metadata": {},
     "output_type": "execute_result"
    }
   ],
   "source": [
    "ncols = 20\n",
    "b_days = pd.DataFrame(np.random.choice([i for i in range(366)], 100000 * ncols).reshape(100000, ncols))\n",
    "b_days['matching_birthdays'] = b_days.nunique(axis=1) < ncols\n",
    "b_days['matching_birthdays'].mean()"
   ]
  },
  {
   "cell_type": "markdown",
   "id": "dc76c94f",
   "metadata": {},
   "source": [
    "40?"
   ]
  },
  {
   "cell_type": "code",
   "execution_count": 17,
   "id": "2fe2a7a5",
   "metadata": {},
   "outputs": [
    {
     "data": {
      "text/plain": [
       "0.88999"
      ]
     },
     "execution_count": 17,
     "metadata": {},
     "output_type": "execute_result"
    }
   ],
   "source": [
    "ncols = 40\n",
    "b_days = pd.DataFrame(np.random.choice([i for i in range(366)], 100000 * ncols).reshape(100000, ncols))\n",
    "b_days['matching_birthdays'] = b_days.nunique(axis=1) < ncols\n",
    "b_days['matching_birthdays'].mean()"
   ]
  },
  {
   "cell_type": "code",
   "execution_count": null,
   "id": "622c1e6f",
   "metadata": {},
   "outputs": [],
   "source": []
  }
 ],
 "metadata": {
  "kernelspec": {
   "display_name": "Python 3",
   "language": "python",
   "name": "python3"
  },
  "language_info": {
   "codemirror_mode": {
    "name": "ipython",
    "version": 3
   },
   "file_extension": ".py",
   "mimetype": "text/x-python",
   "name": "python",
   "nbconvert_exporter": "python",
   "pygments_lexer": "ipython3",
   "version": "3.8.8"
  }
 },
 "nbformat": 4,
 "nbformat_minor": 5
}
