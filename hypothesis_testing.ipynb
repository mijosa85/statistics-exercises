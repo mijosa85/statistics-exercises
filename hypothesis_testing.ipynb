{
 "cells": [
  {
   "cell_type": "markdown",
   "id": "82a860b5",
   "metadata": {},
   "source": [
    "### For each of the following questions, formulate a null and alternative hypothesis (be as specific as you can be), then give an example of what a true positive, true negative, type I and type II errors would look like. Note that some of the questions are intentionally phrased in a vague way. It is your job to reword these as more precise questions that could be tested."
   ]
  },
  {
   "cell_type": "markdown",
   "id": "27f5972f",
   "metadata": {},
   "source": [
    "#### Has the network latency gone up since we switched internet service providers?"
   ]
  },
  {
   "cell_type": "markdown",
   "id": "7d143ebd",
   "metadata": {},
   "source": [
    "Null hypothesis: Switching internet providers has had no effect on mean connection latency"
   ]
  },
  {
   "cell_type": "markdown",
   "id": "705f07aa",
   "metadata": {},
   "source": [
    "Alternative hypothesis: Mean connection latency is greater with the new ISP than with the previous one"
   ]
  },
  {
   "cell_type": "markdown",
   "id": "482aa5fb",
   "metadata": {},
   "source": [
    "True positive: Mean latency has increased 20% since switching internet providers"
   ]
  },
  {
   "cell_type": "markdown",
   "id": "f407bf28",
   "metadata": {},
   "source": [
    "True negative: Mean latency with the new ISP is equal to the mean latency with the previous ISP"
   ]
  },
  {
   "cell_type": "markdown",
   "id": "5c6e3884",
   "metadata": {},
   "source": [
    "Type I error: Telecom maintenance caused latency samples to spike while testing the new ISP"
   ]
  },
  {
   "cell_type": "markdown",
   "id": "452acd38",
   "metadata": {},
   "source": [
    "Type II error: No samples of the new ISP were taken during peak hours which led to skewed results"
   ]
  },
  {
   "cell_type": "markdown",
   "id": "1906d383",
   "metadata": {},
   "source": [
    "#### Is the website redesign any good?"
   ]
  },
  {
   "cell_type": "markdown",
   "id": "cf747ba5",
   "metadata": {},
   "source": [
    "Null hypothesis: The website redesign has not increased site traffic"
   ]
  },
  {
   "cell_type": "markdown",
   "id": "7fd1d4f3",
   "metadata": {},
   "source": [
    "Alternative hypothesis: The website redesign has led to increased site traffic"
   ]
  },
  {
   "cell_type": "markdown",
   "id": "98771c62",
   "metadata": {},
   "source": [
    "True positive: Site traffic has increased 15% since website redesign"
   ]
  },
  {
   "cell_type": "markdown",
   "id": "7d96bd75",
   "metadata": {},
   "source": [
    "True negative: Site traffic is the same after website redesign"
   ]
  },
  {
   "cell_type": "markdown",
   "id": "9712ca85",
   "metadata": {},
   "source": [
    "Type I error: There are more site visits from the same visitors"
   ]
  },
  {
   "cell_type": "markdown",
   "id": "ba42b97b",
   "metadata": {},
   "source": [
    "Type II error: "
   ]
  },
  {
   "cell_type": "markdown",
   "id": "ac6041a8",
   "metadata": {},
   "source": [
    "#### Is our television ad driving more sales?"
   ]
  },
  {
   "cell_type": "markdown",
   "id": "3dbfb468",
   "metadata": {},
   "source": [
    "Null hypothesis:"
   ]
  },
  {
   "cell_type": "markdown",
   "id": "2a6e357c",
   "metadata": {},
   "source": [
    "Alternative hypothesis:"
   ]
  },
  {
   "cell_type": "markdown",
   "id": "aa2a0dcd",
   "metadata": {},
   "source": [
    "True positive:"
   ]
  },
  {
   "cell_type": "markdown",
   "id": "d6131975",
   "metadata": {},
   "source": [
    "True negative:"
   ]
  },
  {
   "cell_type": "markdown",
   "id": "a6be472b",
   "metadata": {},
   "source": [
    "Type I error:"
   ]
  },
  {
   "cell_type": "markdown",
   "id": "f7a5883f",
   "metadata": {},
   "source": [
    "Type II error:"
   ]
  }
 ],
 "metadata": {
  "kernelspec": {
   "display_name": "Python 3",
   "language": "python",
   "name": "python3"
  },
  "language_info": {
   "codemirror_mode": {
    "name": "ipython",
    "version": 3
   },
   "file_extension": ".py",
   "mimetype": "text/x-python",
   "name": "python",
   "nbconvert_exporter": "python",
   "pygments_lexer": "ipython3",
   "version": "3.8.8"
  }
 },
 "nbformat": 4,
 "nbformat_minor": 5
}
