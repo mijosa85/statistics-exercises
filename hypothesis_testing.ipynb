{
 "cells": [
  {
   "cell_type": "markdown",
   "id": "1b9d10de",
   "metadata": {},
   "source": [
    "### For each of the following questions, formulate a null and alternative hypothesis (be as specific as you can be), then give an example of what a true positive, true negative, type I and type II errors would look like. Note that some of the questions are intentionally phrased in a vague way. It is your job to reword these as more precise questions that could be tested."
   ]
  },
  {
   "cell_type": "markdown",
   "id": "6c3758fc",
   "metadata": {},
   "source": [
    "#### Has the network latency gone up since we switched internet service providers?"
   ]
  },
  {
   "cell_type": "markdown",
   "id": "730f128b",
   "metadata": {},
   "source": [
    "Null hypothesis: Switching internet providers has had no effect on mean connection latency"
   ]
  },
  {
   "cell_type": "markdown",
   "id": "17b58625",
   "metadata": {},
   "source": [
    "Alternative hypothesis: Mean connection latency is greater with the new ISP than with the previous one"
   ]
  },
  {
   "cell_type": "markdown",
   "id": "09e4b6d7",
   "metadata": {},
   "source": [
    "True positive: Mean latency has increased 20% since switching internet providers"
   ]
  },
  {
   "cell_type": "markdown",
   "id": "45fe79d9",
   "metadata": {},
   "source": [
    "True negative: Mean latency with the new ISP is equal to the mean latency with the previous ISP"
   ]
  },
  {
   "cell_type": "markdown",
   "id": "3cdaefc4",
   "metadata": {},
   "source": [
    "Type I error: Telecom maintenance caused latency samples to spike while testing the new ISP"
   ]
  },
  {
   "cell_type": "markdown",
   "id": "e24e05d9",
   "metadata": {},
   "source": [
    "Type II error: No samples of the new ISP were taken during peak hours which led to skewed results"
   ]
  },
  {
   "cell_type": "markdown",
   "id": "0816b4c0",
   "metadata": {},
   "source": [
    "#### Is the website redesign any good?"
   ]
  },
  {
   "cell_type": "markdown",
   "id": "77a7128d",
   "metadata": {},
   "source": [
    "Null hypothesis: The website redesign has not increased site traffic"
   ]
  },
  {
   "cell_type": "markdown",
   "id": "9b2facab",
   "metadata": {},
   "source": [
    "Alternative hypothesis: The website redesign has led to increased site traffic"
   ]
  },
  {
   "cell_type": "markdown",
   "id": "3ba32721",
   "metadata": {},
   "source": [
    "True positive: Site traffic has increased 15% since website redesign"
   ]
  },
  {
   "cell_type": "markdown",
   "id": "8735d94d",
   "metadata": {},
   "source": [
    "True negative: Site traffic is the same after website redesign"
   ]
  },
  {
   "cell_type": "markdown",
   "id": "e7b41ca5",
   "metadata": {},
   "source": [
    "Type I error: The site receives more mentions on social media but site traffic remains the same"
   ]
  },
  {
   "cell_type": "markdown",
   "id": "7991ea83",
   "metadata": {},
   "source": [
    "Type II error: The site receives more visitors from the same IP address"
   ]
  },
  {
   "cell_type": "markdown",
   "id": "2edc1889",
   "metadata": {},
   "source": [
    "#### Is our television ad driving more sales?"
   ]
  },
  {
   "cell_type": "markdown",
   "id": "6cdb7422",
   "metadata": {},
   "source": [
    "Null hypothesis: The television ad has had no effect on sales"
   ]
  },
  {
   "cell_type": "markdown",
   "id": "1b53718a",
   "metadata": {},
   "source": [
    "Alternative hypothesis: The television ad is responsible for 10% increase in sales"
   ]
  },
  {
   "cell_type": "markdown",
   "id": "b5765940",
   "metadata": {},
   "source": [
    "True positive: Stores are seeing 10% higher sales after airing the ad"
   ]
  },
  {
   "cell_type": "markdown",
   "id": "630e9869",
   "metadata": {},
   "source": [
    "True negative: Sales are the same as before the ad was aired"
   ]
  },
  {
   "cell_type": "markdown",
   "id": "d2e5be45",
   "metadata": {},
   "source": [
    "Type I error: Higher sales are driven by a recent holiday"
   ]
  },
  {
   "cell_type": "markdown",
   "id": "6f0057dc",
   "metadata": {},
   "source": [
    "Type II error: Customers stated in a survey that their purchase decision was driven by the ad"
   ]
  }
 ],
 "metadata": {
  "kernelspec": {
   "display_name": "Python 3",
   "language": "python",
   "name": "python3"
  },
  "language_info": {
   "codemirror_mode": {
    "name": "ipython",
    "version": 3
   },
   "file_extension": ".py",
   "mimetype": "text/x-python",
   "name": "python",
   "nbconvert_exporter": "python",
   "pygments_lexer": "ipython3",
   "version": "3.8.8"
  }
 },
 "nbformat": 4,
 "nbformat_minor": 5
}
