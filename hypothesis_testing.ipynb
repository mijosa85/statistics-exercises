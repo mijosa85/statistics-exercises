{
 "cells": [
  {
   "cell_type": "code",
   "execution_count": 68,
   "id": "2452f89d",
   "metadata": {},
   "outputs": [],
   "source": [
    "import math\n",
    "import pandas as pd\n",
    "from scipy import stats\n",
    "import matplotlib.pyplot as plt"
   ]
  },
  {
   "cell_type": "markdown",
   "id": "1b9d10de",
   "metadata": {},
   "source": [
    "### For each of the following questions, formulate a null and alternative hypothesis (be as specific as you can be), then give an example of what a true positive, true negative, type I and type II errors would look like. Note that some of the questions are intentionally phrased in a vague way. It is your job to reword these as more precise questions that could be tested."
   ]
  },
  {
   "cell_type": "markdown",
   "id": "6c3758fc",
   "metadata": {},
   "source": [
    "#### Has the network latency gone up since we switched internet service providers?"
   ]
  },
  {
   "cell_type": "markdown",
   "id": "730f128b",
   "metadata": {},
   "source": [
    "Null hypothesis: Switching internet providers has had no effect on mean connection latency"
   ]
  },
  {
   "cell_type": "markdown",
   "id": "17b58625",
   "metadata": {},
   "source": [
    "Alternative hypothesis: Mean connection latency is greater with the new ISP than with the previous one"
   ]
  },
  {
   "cell_type": "markdown",
   "id": "09e4b6d7",
   "metadata": {},
   "source": [
    "True positive: Mean latency has increased 20% since switching internet providers"
   ]
  },
  {
   "cell_type": "markdown",
   "id": "45fe79d9",
   "metadata": {},
   "source": [
    "True negative: Mean latency with the new ISP is equal to the mean latency with the previous ISP"
   ]
  },
  {
   "cell_type": "markdown",
   "id": "3cdaefc4",
   "metadata": {},
   "source": [
    "Type I error: Telecom maintenance caused latency samples to spike while testing the new ISP"
   ]
  },
  {
   "cell_type": "markdown",
   "id": "e24e05d9",
   "metadata": {},
   "source": [
    "Type II error: No samples of the new ISP were taken during peak hours which led to skewed results"
   ]
  },
  {
   "cell_type": "markdown",
   "id": "0816b4c0",
   "metadata": {},
   "source": [
    "#### Is the website redesign any good?"
   ]
  },
  {
   "cell_type": "markdown",
   "id": "77a7128d",
   "metadata": {},
   "source": [
    "Null hypothesis: The website redesign has not increased site traffic"
   ]
  },
  {
   "cell_type": "markdown",
   "id": "9b2facab",
   "metadata": {},
   "source": [
    "Alternative hypothesis: The website redesign has led to increased site traffic"
   ]
  },
  {
   "cell_type": "markdown",
   "id": "3ba32721",
   "metadata": {},
   "source": [
    "True positive: Site traffic has increased 15% since website redesign"
   ]
  },
  {
   "cell_type": "markdown",
   "id": "8735d94d",
   "metadata": {},
   "source": [
    "True negative: Site traffic is the same after website redesign"
   ]
  },
  {
   "cell_type": "markdown",
   "id": "e7b41ca5",
   "metadata": {},
   "source": [
    "Type I error: The site receives more mentions on social media but site traffic remains the same"
   ]
  },
  {
   "cell_type": "markdown",
   "id": "7991ea83",
   "metadata": {},
   "source": [
    "Type II error: The site receives more visitors from the same IP address"
   ]
  },
  {
   "cell_type": "markdown",
   "id": "2edc1889",
   "metadata": {},
   "source": [
    "#### Is our television ad driving more sales?"
   ]
  },
  {
   "cell_type": "markdown",
   "id": "6cdb7422",
   "metadata": {},
   "source": [
    "Null hypothesis: The television ad has had no effect on sales"
   ]
  },
  {
   "cell_type": "markdown",
   "id": "1b53718a",
   "metadata": {},
   "source": [
    "Alternative hypothesis: The television ad is responsible for 10% increase in sales"
   ]
  },
  {
   "cell_type": "markdown",
   "id": "b5765940",
   "metadata": {},
   "source": [
    "True positive: Stores are seeing 10% higher sales after airing the ad"
   ]
  },
  {
   "cell_type": "markdown",
   "id": "630e9869",
   "metadata": {},
   "source": [
    "True negative: Sales are the same as before the ad was aired"
   ]
  },
  {
   "cell_type": "markdown",
   "id": "d2e5be45",
   "metadata": {},
   "source": [
    "Type I error: Higher sales are driven by a recent holiday"
   ]
  },
  {
   "cell_type": "markdown",
   "id": "6f0057dc",
   "metadata": {},
   "source": [
    "Type II error: Customers stated in a survey that their purchase decision was driven by the ad"
   ]
  },
  {
   "cell_type": "markdown",
   "id": "c9e36cd0",
   "metadata": {},
   "source": [
    "### Ace Realty wants to determine whether the average time it takes to sell homes is different for its two offices. A sample of 40 sales from office #1 revealed a mean of 90 days and a standard deviation of 15 days. A sample of 50 sales from office #2 revealed a mean of 100 days and a standard deviation of 20 days. Use a .05 level of significance.\n",
    "\n"
   ]
  },
  {
   "cell_type": "code",
   "execution_count": 2,
   "id": "86205b76",
   "metadata": {},
   "outputs": [
    {
     "data": {
      "text/plain": [
       "-2.6252287036468456"
      ]
     },
     "execution_count": 2,
     "metadata": {},
     "output_type": "execute_result"
    }
   ],
   "source": [
    "μ1 = 90\n",
    "std1 = 15\n",
    "μ2 = 100\n",
    "std2 = 20\n",
    "n1 = 40\n",
    "n2 = 50\n",
    "\n",
    "s_p = math.sqrt(((n1 - 1) * std1**2 + (n2 - 1) * std2**2) / (n1 + n2 - 2))\n",
    "\n",
    "t = (μ1 - μ2) / (s_p * math.sqrt(1/n1 + 1/n2))\n",
    "t"
   ]
  },
  {
   "cell_type": "markdown",
   "id": "88293aff",
   "metadata": {},
   "source": [
    "### Use the telco_churn data. Does tenure correlate with monthly charges? Total charges? What happens if you control for phone and internet service?"
   ]
  },
  {
   "cell_type": "code",
   "execution_count": 126,
   "id": "a8844fec",
   "metadata": {
    "scrolled": false
   },
   "outputs": [],
   "source": [
    "telco = pd.read_csv(\"telco_churn.csv\")\n",
    "telco.rename(columns = telco.iloc[0], inplace = True)\n",
    "telco.drop(index = 0, inplace = True)\n",
    "telco_clean_mask = (telco.monthly_charges.isnull() == False) & (telco.total_charges.isnull() == False) & (telco.has_internet.isnull() == False) & (telco.has_phone_and_internet.isnull() == False) & (telco.service_type.isnull() == False) & (telco.internet_type_desc.isnull() == False) & (telco.phone_type_desc.isnull() == False)\n",
    "telco = telco[telco_clean_mask]"
   ]
  },
  {
   "cell_type": "code",
   "execution_count": 127,
   "id": "8c8ac640",
   "metadata": {},
   "outputs": [
    {
     "name": "stderr",
     "output_type": "stream",
     "text": [
      "<ipython-input-127-1971fd9c8efc>:5: FutureWarning: The default value of regex will change from True to False in a future version. In addition, single character regular expressions will*not* be treated as literal strings when regex=True.\n",
      "  monthly_charges = telco.monthly_charges.str.replace(\"$\",  \"\").astype(float)\n",
      "<ipython-input-127-1971fd9c8efc>:6: FutureWarning: The default value of regex will change from True to False in a future version. In addition, single character regular expressions will*not* be treated as literal strings when regex=True.\n",
      "  total_charges = telco.total_charges.str.replace(\"$\",  \"\").str.replace(\",\", \"\").astype(float)\n"
     ]
    }
   ],
   "source": [
    "n = len(telco)\n",
    "α = 0.05\n",
    "degf = n - 2\n",
    "tenure = telco.tenure.astype(int)\n",
    "monthly_charges = telco.monthly_charges.str.replace(\"$\",  \"\").astype(float)\n",
    "total_charges = telco.total_charges.str.replace(\"$\",  \"\").str.replace(\",\", \"\").astype(float)"
   ]
  },
  {
   "cell_type": "code",
   "execution_count": 128,
   "id": "66de78e1",
   "metadata": {
    "scrolled": true
   },
   "outputs": [
    {
     "data": {
      "text/html": [
       "<div>\n",
       "<style scoped>\n",
       "    .dataframe tbody tr th:only-of-type {\n",
       "        vertical-align: middle;\n",
       "    }\n",
       "\n",
       "    .dataframe tbody tr th {\n",
       "        vertical-align: top;\n",
       "    }\n",
       "\n",
       "    .dataframe thead th {\n",
       "        text-align: right;\n",
       "    }\n",
       "</style>\n",
       "<table border=\"1\" class=\"dataframe\">\n",
       "  <thead>\n",
       "    <tr style=\"text-align: right;\">\n",
       "      <th></th>\n",
       "      <th>customer_id</th>\n",
       "      <th>gender</th>\n",
       "      <th>is_senior_citizen</th>\n",
       "      <th>partner</th>\n",
       "      <th>dependents</th>\n",
       "      <th>phone_service</th>\n",
       "      <th>internet_service</th>\n",
       "      <th>contract_type</th>\n",
       "      <th>payment_type</th>\n",
       "      <th>monthly_charges</th>\n",
       "      <th>...</th>\n",
       "      <th>has_internet</th>\n",
       "      <th>has_phone_and_internet</th>\n",
       "      <th>partner_dependents</th>\n",
       "      <th>start_date</th>\n",
       "      <th>average_monthly_charges</th>\n",
       "      <th>validate_monthly_charges</th>\n",
       "      <th>contract_type_desc</th>\n",
       "      <th>phone_type_desc</th>\n",
       "      <th>internet_type_desc</th>\n",
       "      <th>service_type</th>\n",
       "    </tr>\n",
       "  </thead>\n",
       "  <tbody>\n",
       "    <tr>\n",
       "      <th>12</th>\n",
       "      <td>0021-IKXGC</td>\n",
       "      <td>Female</td>\n",
       "      <td>1</td>\n",
       "      <td>No</td>\n",
       "      <td>No</td>\n",
       "      <td>2</td>\n",
       "      <td>2</td>\n",
       "      <td>0</td>\n",
       "      <td>Electronic check</td>\n",
       "      <td>$72.10</td>\n",
       "      <td>...</td>\n",
       "      <td>TRUE</td>\n",
       "      <td>TRUE</td>\n",
       "      <td>0</td>\n",
       "      <td>20200111</td>\n",
       "      <td>$72.10</td>\n",
       "      <td>TRUE</td>\n",
       "      <td>Month-to-Month</td>\n",
       "      <td>Two or More Lines</td>\n",
       "      <td>Fiber Optic</td>\n",
       "      <td>Phone+Internet</td>\n",
       "    </tr>\n",
       "    <tr>\n",
       "      <th>13</th>\n",
       "      <td>0023-HGHWL</td>\n",
       "      <td>Male</td>\n",
       "      <td>1</td>\n",
       "      <td>No</td>\n",
       "      <td>No</td>\n",
       "      <td>0</td>\n",
       "      <td>1</td>\n",
       "      <td>0</td>\n",
       "      <td>Electronic check</td>\n",
       "      <td>$25.10</td>\n",
       "      <td>...</td>\n",
       "      <td>TRUE</td>\n",
       "      <td>FALSE</td>\n",
       "      <td>0</td>\n",
       "      <td>20200111</td>\n",
       "      <td>$25.10</td>\n",
       "      <td>TRUE</td>\n",
       "      <td>Month-to-Month</td>\n",
       "      <td>No Phone Service</td>\n",
       "      <td>DSL</td>\n",
       "      <td>Internet Only</td>\n",
       "    </tr>\n",
       "    <tr>\n",
       "      <th>14</th>\n",
       "      <td>0032-PGELS</td>\n",
       "      <td>Female</td>\n",
       "      <td>0</td>\n",
       "      <td>Yes</td>\n",
       "      <td>Yes</td>\n",
       "      <td>0</td>\n",
       "      <td>1</td>\n",
       "      <td>0</td>\n",
       "      <td>Bank transfer (automatic)</td>\n",
       "      <td>$30.50</td>\n",
       "      <td>...</td>\n",
       "      <td>TRUE</td>\n",
       "      <td>FALSE</td>\n",
       "      <td>3</td>\n",
       "      <td>20200111</td>\n",
       "      <td>$30.50</td>\n",
       "      <td>TRUE</td>\n",
       "      <td>Month-to-Month</td>\n",
       "      <td>No Phone Service</td>\n",
       "      <td>DSL</td>\n",
       "      <td>Internet Only</td>\n",
       "    </tr>\n",
       "    <tr>\n",
       "      <th>15</th>\n",
       "      <td>0082-LDZUE</td>\n",
       "      <td>Male</td>\n",
       "      <td>0</td>\n",
       "      <td>No</td>\n",
       "      <td>No</td>\n",
       "      <td>1</td>\n",
       "      <td>1</td>\n",
       "      <td>0</td>\n",
       "      <td>Mailed check</td>\n",
       "      <td>$44.30</td>\n",
       "      <td>...</td>\n",
       "      <td>TRUE</td>\n",
       "      <td>TRUE</td>\n",
       "      <td>0</td>\n",
       "      <td>20200111</td>\n",
       "      <td>$44.30</td>\n",
       "      <td>TRUE</td>\n",
       "      <td>Month-to-Month</td>\n",
       "      <td>One Line</td>\n",
       "      <td>DSL</td>\n",
       "      <td>Phone+Internet</td>\n",
       "    </tr>\n",
       "    <tr>\n",
       "      <th>16</th>\n",
       "      <td>0107-WESLM</td>\n",
       "      <td>Male</td>\n",
       "      <td>0</td>\n",
       "      <td>No</td>\n",
       "      <td>No</td>\n",
       "      <td>1</td>\n",
       "      <td>0</td>\n",
       "      <td>0</td>\n",
       "      <td>Electronic check</td>\n",
       "      <td>$19.85</td>\n",
       "      <td>...</td>\n",
       "      <td>FALSE</td>\n",
       "      <td>FALSE</td>\n",
       "      <td>0</td>\n",
       "      <td>20200111</td>\n",
       "      <td>$19.85</td>\n",
       "      <td>TRUE</td>\n",
       "      <td>Month-to-Month</td>\n",
       "      <td>One Line</td>\n",
       "      <td>No Internet Service</td>\n",
       "      <td>Phone Only</td>\n",
       "    </tr>\n",
       "  </tbody>\n",
       "</table>\n",
       "<p>5 rows × 26 columns</p>\n",
       "</div>"
      ],
      "text/plain": [
       "   customer_id  gender is_senior_citizen partner dependents phone_service  \\\n",
       "12  0021-IKXGC  Female                 1      No         No             2   \n",
       "13  0023-HGHWL    Male                 1      No         No             0   \n",
       "14  0032-PGELS  Female                 0     Yes        Yes             0   \n",
       "15  0082-LDZUE    Male                 0      No         No             1   \n",
       "16  0107-WESLM    Male                 0      No         No             1   \n",
       "\n",
       "   internet_service contract_type               payment_type monthly_charges  \\\n",
       "12                2             0           Electronic check          $72.10   \n",
       "13                1             0           Electronic check          $25.10   \n",
       "14                1             0  Bank transfer (automatic)          $30.50   \n",
       "15                1             0               Mailed check          $44.30   \n",
       "16                0             0           Electronic check          $19.85   \n",
       "\n",
       "    ... has_internet has_phone_and_internet partner_dependents start_date  \\\n",
       "12  ...         TRUE                   TRUE                  0   20200111   \n",
       "13  ...         TRUE                  FALSE                  0   20200111   \n",
       "14  ...         TRUE                  FALSE                  3   20200111   \n",
       "15  ...         TRUE                   TRUE                  0   20200111   \n",
       "16  ...        FALSE                  FALSE                  0   20200111   \n",
       "\n",
       "   average_monthly_charges validate_monthly_charges contract_type_desc  \\\n",
       "12                  $72.10                     TRUE     Month-to-Month   \n",
       "13                  $25.10                     TRUE     Month-to-Month   \n",
       "14                  $30.50                     TRUE     Month-to-Month   \n",
       "15                  $44.30                     TRUE     Month-to-Month   \n",
       "16                  $19.85                     TRUE     Month-to-Month   \n",
       "\n",
       "      phone_type_desc   internet_type_desc    service_type  \n",
       "12  Two or More Lines          Fiber Optic  Phone+Internet  \n",
       "13   No Phone Service                  DSL   Internet Only  \n",
       "14   No Phone Service                  DSL   Internet Only  \n",
       "15           One Line                  DSL  Phone+Internet  \n",
       "16           One Line  No Internet Service      Phone Only  \n",
       "\n",
       "[5 rows x 26 columns]"
      ]
     },
     "execution_count": 128,
     "metadata": {},
     "output_type": "execute_result"
    }
   ],
   "source": [
    "telco.head()"
   ]
  },
  {
   "cell_type": "code",
   "execution_count": 137,
   "id": "966cb089",
   "metadata": {},
   "outputs": [
    {
     "data": {
      "text/plain": [
       "True"
      ]
     },
     "execution_count": 137,
     "metadata": {},
     "output_type": "execute_result"
    }
   ],
   "source": [
    "r, p = stats.pearsonr(tenure, monthly_charges)\n",
    "\n",
    "p < α"
   ]
  },
  {
   "cell_type": "code",
   "execution_count": 138,
   "id": "29c3c0ce",
   "metadata": {},
   "outputs": [
    {
     "data": {
      "text/plain": [
       "(0.24659625135628335, 6.522174283354404e-98)"
      ]
     },
     "execution_count": 138,
     "metadata": {},
     "output_type": "execute_result"
    }
   ],
   "source": [
    "r,p"
   ]
  },
  {
   "cell_type": "code",
   "execution_count": 114,
   "id": "a8fb0feb",
   "metadata": {},
   "outputs": [
    {
     "data": {
      "text/plain": [
       "<matplotlib.collections.PathCollection at 0x11cf85f10>"
      ]
     },
     "execution_count": 114,
     "metadata": {},
     "output_type": "execute_result"
    },
    {
     "data": {
      "image/png": "[encoded data removed]",
      "text/plain": [
       "<Figure size 432x288 with 1 Axes>"
      ]
     },
     "metadata": {
      "needs_background": "light"
     },
     "output_type": "display_data"
    }
   ],
   "source": [
    "plt.scatter(tenure,monthly_charges)"
   ]
  },
  {
   "cell_type": "code",
   "execution_count": 121,
   "id": "e187311f",
   "metadata": {},
   "outputs": [
    {
     "data": {
      "text/plain": [
       "True"
      ]
     },
     "execution_count": 121,
     "metadata": {},
     "output_type": "execute_result"
    }
   ],
   "source": [
    "r, p = stats.pearsonr(tenure, total_charges)\n",
    "t = (r * math.sqrt(n - 2)) / math.sqrt(1 - r**2)\n",
    "p = stats.t.sf(t, degf) * 2\n",
    "\n",
    "p < α"
   ]
  },
  {
   "cell_type": "code",
   "execution_count": 122,
   "id": "aa199bff",
   "metadata": {
    "scrolled": true
   },
   "outputs": [
    {
     "data": {
      "text/plain": [
       "(0.826241316476427, 0.0)"
      ]
     },
     "execution_count": 122,
     "metadata": {},
     "output_type": "execute_result"
    }
   ],
   "source": [
    "r, p"
   ]
  },
  {
   "cell_type": "code",
   "execution_count": null,
   "id": "03130d8c",
   "metadata": {},
   "outputs": [],
   "source": []
  }
 ],
 "metadata": {
  "kernelspec": {
   "display_name": "Python 3",
   "language": "python",
   "name": "python3"
  },
  "language_info": {
   "codemirror_mode": {
    "name": "ipython",
    "version": 3
   },
   "file_extension": ".py",
   "mimetype": "text/x-python",
   "name": "python",
   "nbconvert_exporter": "python",
   "pygments_lexer": "ipython3",
   "version": "3.8.8"
  }
 },
 "nbformat": 4,
 "nbformat_minor": 5
}
